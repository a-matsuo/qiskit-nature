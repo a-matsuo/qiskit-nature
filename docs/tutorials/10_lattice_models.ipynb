{
 "cells": [
  {
   "cell_type": "markdown",
   "metadata": {},
   "source": [
    "# Lattice models"
   ]
  },
  {
   "cell_type": "markdown",
   "metadata": {},
   "source": [
    "## Introduction\n",
    "In quantum physics (including condensed matter physics and high energy physics) we often study models on lattices. \n",
    "For example, when we think about behavior of electrons in a solid, we can study a model defined on a lattice by considering the positions of atoms as lattice points.\n",
    "This notebook demonstrates how we can utilize `Lattice` classes to generate various lattice systems such as `LineLattice`, `SquareLattice`, `HyperCubicLattice`, `TriangularLattice`, and a general lattice. \n",
    "It also includes an example of a lattice model, the Fermi-Hubbard model. \n",
    "We see how we can define the Hamiltonian of the Fermi-Hubbard model for a given lattice using `FermiHubbardModel` class. "
   ]
  },
  {
   "cell_type": "code",
   "execution_count": null,
   "metadata": {},
   "outputs": [],
   "source": [
    "from math import pi\n",
    "\n",
    "import numpy as np\n",
    "import retworkx as rx\n",
    "from qiskit_nature.problems.second_quantization.lattice import (\n",
    "    BoundaryCondition,\n",
    "    FermiHubbardModel,\n",
    "    HyperCubicLattice,\n",
    "    Lattice,\n",
    "    LatticeDrawStyle,\n",
    "    LineLattice,\n",
    "    SquareLattice,\n",
    "    TriangularLattice,\n",
    ")"
   ]
  },
  {
   "cell_type": "markdown",
   "metadata": {},
   "source": [
    "## LineLattice\n",
    "`LineLattice` provides a one-dimensional lattice.\n",
    "We can construct a one-dimensional lattice as follows."
   ]
  },
  {
   "cell_type": "code",
   "execution_count": null,
   "metadata": {},
   "outputs": [],
   "source": [
    "num_nodes = 11\n",
    "boundary_condition = BoundaryCondition.OPEN\n",
    "line_lattice = LineLattice(num_nodes=num_nodes, boundary_condition=boundary_condition)"
   ]
  },
  {
   "cell_type": "markdown",
   "metadata": {},
   "source": [
    "Here, it is visualized."
   ]
  },
  {
   "cell_type": "code",
   "execution_count": null,
   "metadata": {},
   "outputs": [],
   "source": [
    "line_lattice.draw()"
   ]
  },
  {
   "cell_type": "markdown",
   "metadata": {},
   "source": [
    "We can also construct a one-dimensional lattice with the periodic boundary conditions by specifying `BoundaryCondition.PERIODIC` as the argument of `boundary_condition`."
   ]
  },
  {
   "cell_type": "code",
   "execution_count": null,
   "metadata": {},
   "outputs": [],
   "source": [
    "num_nodes = 11\n",
    "boundary_condition = BoundaryCondition.PERIODIC\n",
    "line_lattice = LineLattice(num_nodes=num_nodes, boundary_condition=boundary_condition)\n",
    "\n",
    "line_lattice.draw()"
   ]
  },
  {
   "cell_type": "markdown",
   "metadata": {},
   "source": [
    "When we want to draw the lattice ignoring the boundary conditions, we use the method `draw_without_boundary`."
   ]
  },
  {
   "cell_type": "code",
   "execution_count": null,
   "metadata": {},
   "outputs": [],
   "source": [
    "line_lattice.draw_without_boundary()"
   ]
  },
  {
   "cell_type": "markdown",
   "metadata": {},
   "source": [
    "We can define real or complex weights for the edges of the lattice.\n",
    "This is done by giving a value to the argument `edge_parameter`.\n",
    "We can also give a value for the self-loops of the lattice by passing the value for `onsite_parameter`."
   ]
  },
  {
   "cell_type": "code",
   "execution_count": null,
   "metadata": {},
   "outputs": [],
   "source": [
    "num_nodes = 11\n",
    "boundary_condition = BoundaryCondition.PERIODIC\n",
    "edge_parameter = 1.0 + 1.0j\n",
    "onsite_parameter = 1.0\n",
    "line_lattice = LineLattice(\n",
    "    num_nodes=num_nodes,\n",
    "    edge_parameter=edge_parameter,\n",
    "    onsite_parameter=onsite_parameter,\n",
    "    boundary_condition=boundary_condition,\n",
    ")\n",
    "set(line_lattice.graph.weighted_edge_list())"
   ]
  },
  {
   "cell_type": "markdown",
   "metadata": {},
   "source": [
    "The connectivity of the lattice can be seen as the adjacency matrix, which is done by `to_adjacency_matrix`."
   ]
  },
  {
   "cell_type": "code",
   "execution_count": null,
   "metadata": {},
   "outputs": [],
   "source": [
    "line_lattice.to_adjacency_matrix()"
   ]
  },
  {
   "cell_type": "markdown",
   "metadata": {},
   "source": [
    "By setting `weighted=True`, we obtain a Hermitian matrix whose matrix elements are the weights."
   ]
  },
  {
   "cell_type": "code",
   "execution_count": null,
   "metadata": {},
   "outputs": [],
   "source": [
    "line_lattice.to_adjacency_matrix(weighted=True)"
   ]
  },
  {
   "cell_type": "markdown",
   "metadata": {},
   "source": [
    "## SquareLattice\n",
    "`SquareLattice` provides a two-dimensional lattice.\n",
    "Here, we make a two-dimensional lattice with the open boundary conditions."
   ]
  },
  {
   "cell_type": "code",
   "execution_count": null,
   "metadata": {},
   "outputs": [],
   "source": [
    "rows = 5\n",
    "cols = 4\n",
    "boundary_condition = BoundaryCondition.OPEN\n",
    "square_lattice = SquareLattice(rows=rows, cols=cols, boundary_condition=boundary_condition)\n",
    "\n",
    "square_lattice.draw()"
   ]
  },
  {
   "cell_type": "markdown",
   "metadata": {},
   "source": [
    "We can specify the boundary conditions for each direction by setting `boundary_condition` as a tuple."
   ]
  },
  {
   "cell_type": "code",
   "execution_count": null,
   "metadata": {},
   "outputs": [],
   "source": [
    "rows = 5\n",
    "cols = 4\n",
    "boundary_condition = (\n",
    "    BoundaryCondition.OPEN,\n",
    "    BoundaryCondition.PERIODIC,\n",
    ")  # open in the x-direction, periodic in the y-direction\n",
    "square_lattice = SquareLattice(rows=rows, cols=cols, boundary_condition=boundary_condition)\n",
    "\n",
    "square_lattice.draw()"
   ]
  },
  {
   "cell_type": "markdown",
   "metadata": {},
   "source": [
    "Again, we can give weights on the edges and the self-loops of the lattice.\n",
    "Here, it is possible to give weights for each direction as a tuple."
   ]
  },
  {
   "cell_type": "code",
   "execution_count": null,
   "metadata": {},
   "outputs": [],
   "source": [
    "rows = 5\n",
    "cols = 4\n",
    "edge_parameter = (1.0, 1.0 + 1.0j)\n",
    "boundary_condition = (\n",
    "    BoundaryCondition.OPEN,\n",
    "    BoundaryCondition.PERIODIC,\n",
    ")  # open in the x-direction, periodic in the y-direction\n",
    "onsite_parameter = 1.0\n",
    "square_lattice = SquareLattice(\n",
    "    rows=rows,\n",
    "    cols=cols,\n",
    "    edge_parameter=edge_parameter,\n",
    "    onsite_parameter=onsite_parameter,\n",
    "    boundary_condition=boundary_condition,\n",
    ")\n",
    "\n",
    "set(square_lattice.graph.weighted_edge_list())"
   ]
  },
  {
   "cell_type": "markdown",
   "metadata": {},
   "source": [
    "## HyperCubicLattice\n",
    "`HyperCubicLattice` is a generalization of `LineLattice` and `SquareLattice`. \n",
    "It provides an arbitrary d-dimensional lattice.\n",
    "Here, we make a three-dimensional lattice of size 3 by 4 by 5 as an example.\n",
    "The size is given as a tuple, and the boundary conditions can be specified for each direction too.\n",
    "In the example, the boundary conditions are open."
   ]
  },
  {
   "cell_type": "code",
   "execution_count": null,
   "metadata": {},
   "outputs": [],
   "source": [
    "size = (3, 4, 5)\n",
    "boundary_condition = (\n",
    "    BoundaryCondition.OPEN,\n",
    "    BoundaryCondition.OPEN,\n",
    "    BoundaryCondition.OPEN,\n",
    ")\n",
    "cubic_lattice = HyperCubicLattice(size=size, boundary_condition=boundary_condition)"
   ]
  },
  {
   "cell_type": "markdown",
   "metadata": {},
   "source": [
    "We draw the cubic lattice specifying the positions of the lattice points."
   ]
  },
  {
   "cell_type": "code",
   "execution_count": null,
   "metadata": {},
   "outputs": [],
   "source": [
    "# function for setting the positions\n",
    "def indextocoord_3d(index: int, size: tuple, angle) -> list:\n",
    "    z = index // (size[0] * size[1])\n",
    "    a = index % (size[0] * size[1])\n",
    "    y = a // size[0]\n",
    "    x = a % size[0]\n",
    "    vec_x = np.array([1, 0])\n",
    "    vec_y = np.array([np.cos(angle), np.sin(angle)])\n",
    "    vec_z = np.array([0, 1])\n",
    "    return_coord = x * vec_x + y * vec_y + z * vec_z\n",
    "    return return_coord.tolist()\n",
    "\n",
    "\n",
    "pos = dict([(index, indextocoord_3d(index, size, angle=pi / 4)) for index in range(np.prod(size))])\n",
    "\n",
    "cubic_lattice.draw(style=LatticeDrawStyle(pos=pos))"
   ]
  },
  {
   "cell_type": "markdown",
   "metadata": {},
   "source": [
    "## TriangularLattice\n",
    "`TriangularLattice` provides a triangular lattice, which can be seen as a two-dimensional lattice with diagonal edges.\n",
    "The argument `boundary_condition` can take either \"open\" or \"periodic\"."
   ]
  },
  {
   "cell_type": "code",
   "execution_count": null,
   "metadata": {},
   "outputs": [],
   "source": [
    "rows = 4\n",
    "cols = 3\n",
    "boundary_condition = BoundaryCondition.OPEN\n",
    "\n",
    "triangular_lattice = TriangularLattice(rows=rows, cols=cols, boundary_condition=boundary_condition)\n",
    "\n",
    "triangular_lattice.draw()"
   ]
  },
  {
   "cell_type": "code",
   "execution_count": null,
   "metadata": {},
   "outputs": [],
   "source": [
    "rows = 4\n",
    "cols = 3\n",
    "boundary_condition = BoundaryCondition.PERIODIC\n",
    "\n",
    "triangular_lattice = TriangularLattice(rows=rows, cols=cols, boundary_condition=boundary_condition)\n",
    "\n",
    "triangular_lattice.draw()"
   ]
  },
  {
   "cell_type": "markdown",
   "metadata": {},
   "source": [
    "## General Lattice\n",
    "Above, we have seen translational invariant lattices.\n",
    "Here, we consider a general lattice.\n",
    "We can construct a general lattice consisting of nodes and edges using an instance of PyGraph."
   ]
  },
  {
   "cell_type": "code",
   "execution_count": null,
   "metadata": {},
   "outputs": [],
   "source": [
    "graph = rx.PyGraph(multigraph=False)  # multiigraph shoud be False\n",
    "graph.add_nodes_from(range(6))\n",
    "weighted_edge_list = [\n",
    "    (0, 1, 1.0 + 1.0j),\n",
    "    (0, 2, -1.0),\n",
    "    (2, 3, 2.0),\n",
    "    (4, 2, -1.0 + 2.0j),\n",
    "    (4, 4, 3.0),\n",
    "    (2, 5, -1.0),\n",
    "]\n",
    "graph.add_edges_from(weighted_edge_list)\n",
    "\n",
    "# make a lattice\n",
    "general_lattice = Lattice(graph)\n",
    "set(general_lattice.graph.weighted_edge_list())"
   ]
  },
  {
   "cell_type": "markdown",
   "metadata": {},
   "source": [
    "Here is its visualization."
   ]
  },
  {
   "cell_type": "code",
   "execution_count": null,
   "metadata": {},
   "outputs": [],
   "source": [
    "general_lattice.draw()"
   ]
  },
  {
   "cell_type": "markdown",
   "metadata": {},
   "source": [
    "When we want to visualize the self-loops in the lattice, we set `self_loop` to True."
   ]
  },
  {
   "cell_type": "code",
   "execution_count": null,
   "metadata": {},
   "outputs": [],
   "source": [
    "general_lattice.draw(self_loop=True)"
   ]
  },
  {
   "cell_type": "markdown",
   "metadata": {},
   "source": [
    "The labels of the lattice sites are drawn when `with_labels` is True."
   ]
  },
  {
   "cell_type": "code",
   "execution_count": null,
   "metadata": {},
   "outputs": [],
   "source": [
    "general_lattice.draw(self_loop=True, style=LatticeDrawStyle(with_labels=True))"
   ]
  },
  {
   "cell_type": "markdown",
   "metadata": {},
   "source": [
    "## The Fermi-Hubbard model\n",
    "The Fermi-Hubbard model is the simplest model describing electrons moving on a lattice and interaction with each other at the same site.\n",
    "The Hamiltonian is given as follows:"
   ]
  },
  {
   "cell_type": "markdown",
   "metadata": {},
   "source": [
    "$$\n",
    "H = \\sum_{i, j}\\sum_{\\sigma = \\uparrow, \\downarrow} t_{i, j} c_{i, \\sigma}^\\dagger c_{j, \\sigma} + U \\sum_{i} n_{i, \\uparrow} n_{i, \\downarrow},\n",
    "$$"
   ]
  },
  {
   "cell_type": "markdown",
   "metadata": {},
   "source": [
    "where $c_{i, \\sigma}^\\dagger$ and $c_{i, \\sigma}$ are creation and annihilation operators of fermion at the site $i$ with spin $\\sigma$.\n",
    "The operator $n_{i, \\sigma}$ is the number operator, which is defined by $n_{i, \\sigma} = c_{i, \\sigma}^\\dagger c_{i, \\sigma}$. \n",
    "The matrix $t_{i, j}$ is a Hermitian matrix called interaction matrix.\n",
    "The parameter $U$ represents the strength of the interaction."
   ]
  },
  {
   "cell_type": "markdown",
   "metadata": {},
   "source": [
    "We can generate the corresponding Hamiltonian of a given lattice using `FermiHubbardModel` class.\n",
    "Here, we construct the Hamiltonian with uniform interaction and interaction parameters on a two-dimensional lattice."
   ]
  },
  {
   "cell_type": "code",
   "execution_count": null,
   "metadata": {},
   "outputs": [],
   "source": [
    "square_lattice = SquareLattice(rows=5, cols=4, boundary_condition=BoundaryCondition.PERIODIC)\n",
    "\n",
    "t = -1.0  # the interaction parameter\n",
    "v = 0.0  # the onsite potential\n",
    "u = 5.0  # the interaction parameter U\n",
    "\n",
    "fhm = FermiHubbardModel.uniform_parameters(\n",
    "    lattice=square_lattice,\n",
    "    uniform_interaction=t,\n",
    "    uniform_onsite_potential=v,\n",
    "    onsite_interaction=u,\n",
    ")"
   ]
  },
  {
   "cell_type": "markdown",
   "metadata": {},
   "source": [
    "To obtain the Hamiltonian in terms of the fermionic operators, we use `second_q_ops` method.\n",
    "The Hamiltonian is returned as an instance of `FermionicOp`."
   ]
  },
  {
   "cell_type": "markdown",
   "metadata": {},
   "source": [
    "- Note\n",
    "    - The number of fermionic operators required is twice the number of lattice sites because of the spin degrees of freedom.\n",
    "    - In the implementation, even indexes correspond to up-spin and odd indexes to down-spin."
   ]
  },
  {
   "cell_type": "code",
   "execution_count": null,
   "metadata": {},
   "outputs": [],
   "source": [
    "ham = fhm.second_q_ops(display_format=\"sparse\").reduce()\n",
    "print(ham)"
   ]
  },
  {
   "cell_type": "markdown",
   "metadata": {},
   "source": [
    "`Lattice` has weights on its edges, so we can define a general interaction matrix using a Lattice instance.\n",
    "Here, we consider the Fermi-Hubbard model on a general lattice on which non-uniform interaction parameters are given.\n",
    "In this case, the weights of the lattice are regarded as the interaction matrix. After generating the Hamiltonian (`second_q_ops`) we can use a qubit converter to generate the qubit operators and/or use any of the available algorithms to solver the corresponding lattice problem."
   ]
  },
  {
   "cell_type": "code",
   "execution_count": null,
   "metadata": {},
   "outputs": [],
   "source": [
    "graph = rx.PyGraph(multigraph=False)  # multiigraph shoud be False\n",
    "graph.add_nodes_from(range(6))\n",
    "weighted_edge_list = [\n",
    "    (0, 1, 1.0 + 1.0j),\n",
    "    (0, 2, -1.0),\n",
    "    (2, 3, 2.0),\n",
    "    (4, 2, -1.0 + 2.0j),\n",
    "    (4, 4, 3.0),\n",
    "    (2, 5, -1.0),\n",
    "]\n",
    "graph.add_edges_from(weighted_edge_list)\n",
    "\n",
    "general_lattice = Lattice(graph)  # the lattice whose weights are seen as the interaction matrix.\n",
    "u = 5.0  # the interaction parameter U\n",
    "\n",
    "fhm = FermiHubbardModel(lattice=general_lattice, onsite_interaction=u)\n",
    "\n",
    "ham = fhm.second_q_ops(display_format=\"sparse\").reduce()\n",
    "ham.set_truncation(0)\n",
    "print(ham)"
   ]
  },
  {
   "cell_type": "markdown",
   "metadata": {},
   "source": [
    "## LatticeModelProblem\n",
    "We also have the Lattice Model Problem to generate the Second quantized operator from a Lattice Model. We can use the Ground State Eigensolver with it to calculate the ground state energy."
   ]
  },
  {
   "cell_type": "code",
   "execution_count": null,
   "metadata": {},
   "outputs": [],
   "source": [
    "from qiskit_nature.problems.second_quantization import LatticeModelProblem\n",
    "from qiskit_nature.converters.second_quantization import QubitConverter\n",
    "\n",
    "num_nodes = 4\n",
    "boundary_condition = BoundaryCondition.OPEN\n",
    "line_lattice = LineLattice(num_nodes=num_nodes, boundary_condition=boundary_condition)\n",
    "\n",
    "fhm = FermiHubbardModel.uniform_parameters(\n",
    "    lattice=line_lattice,\n",
    "    uniform_interaction=t,\n",
    "    uniform_onsite_potential=v,\n",
    "    onsite_interaction=u,\n",
    ")\n",
    "\n",
    "lmp = LatticeModelProblem(lattice_model=fhm)"
   ]
  },
  {
   "cell_type": "code",
   "execution_count": null,
   "metadata": {},
   "outputs": [],
   "source": [
    "from qiskit.algorithms import NumPyMinimumEigensolver\n",
    "from qiskit_nature.algorithms import GroundStateEigensolver\n",
    "from qiskit_nature.mappers.second_quantization import JordanWignerMapper\n",
    "\n",
    "numpy_solver = NumPyMinimumEigensolver()\n",
    "\n",
    "qubit_converter = QubitConverter(JordanWignerMapper())\n",
    "\n",
    "calc = GroundStateEigensolver(qubit_converter, numpy_solver)\n",
    "res = calc.solve(lmp)\n",
    "\n",
    "print(res)"
   ]
  },
  {
   "cell_type": "code",
   "execution_count": null,
   "metadata": {},
   "outputs": [],
   "source": [
    "import qiskit.tools.jupyter\n",
    "\n",
    "%qiskit_version_table\n",
    "%qiskit_copyright"
   ]
  }
 ],
 "metadata": {
  "interpreter": {
   "hash": "174e3e9c36fcd969539303d4cd37008cdb6d8e1edd6224d17a4158c844dc4aac"
  },
  "kernelspec": {
   "display_name": "Python 3.8.6 ('nature-qiskit')",
   "language": "python",
   "name": "python3"
  },
  "language_info": {
   "codemirror_mode": {
    "name": "ipython",
    "version": 3
   },
   "file_extension": ".py",
   "mimetype": "text/x-python",
   "name": "python",
   "nbconvert_exporter": "python",
   "pygments_lexer": "ipython3",
   "version": "3.8.6"
  }
 },
 "nbformat": 4,
 "nbformat_minor": 4
}
